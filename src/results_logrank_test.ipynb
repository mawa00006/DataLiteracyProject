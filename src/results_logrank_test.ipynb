{
 "cells": [
  {
   "cell_type": "markdown",
   "source": [
    "# Logrank test\n",
    "\n",
    "Run this notebook to reproduce the result for the logrank test \n",
    "\n",
    "Authors: Mattes Warning, Hamzeh Tesh"
   ],
   "metadata": {
    "collapsed": false
   },
   "id": "4023c57167963517"
  },
  {
   "cell_type": "code",
   "execution_count": 7,
   "outputs": [],
   "source": [
    "import pandas as pd\n",
    "from logrank_test import LogRankTest"
   ],
   "metadata": {
    "collapsed": false,
    "ExecuteTime": {
     "end_time": "2024-01-29T23:34:06.435074Z",
     "start_time": "2024-01-29T23:34:06.428040Z"
    }
   },
   "id": "initial_id"
  },
  {
   "cell_type": "code",
   "execution_count": 8,
   "outputs": [],
   "source": [
    "df = pd.read_csv(\"../dat/preprocessed_brca_metabric_clinical_data.tsv\", sep='\\t')\n",
    "\n",
    "# creating binary survival status \n",
    "df['Overall Survival'] = df['Overall Survival Status'].map({'0:LIVING': 0, '1:DECEASED': 1})\n",
    "df['Relapse Free Status'] = df['Relapse Free Status'].map({'0:Not Recurred': 0, '1:Recurred': 1})\n"
   ],
   "metadata": {
    "collapsed": false,
    "ExecuteTime": {
     "end_time": "2024-01-29T23:34:06.818225Z",
     "start_time": "2024-01-29T23:34:06.801679Z"
    }
   },
   "id": "98859c9d0b217cee"
  },
  {
   "cell_type": "markdown",
   "source": [
    "## Tumor Stage 2"
   ],
   "metadata": {
    "collapsed": false
   },
   "id": "e26e13b4290785c4"
  },
  {
   "cell_type": "markdown",
   "source": [
    "### Relapse"
   ],
   "metadata": {
    "collapsed": false
   },
   "id": "894ad07fdf5ab98e"
  },
  {
   "cell_type": "code",
   "execution_count": 9,
   "outputs": [
    {
     "name": "stdout",
     "output_type": "stream",
     "text": [
      "Log-Rank Test Statistic: 0.010\n",
      "P-value: 0.922\n"
     ]
    }
   ],
   "source": [
    "test_statistic, p_value = LogRankTest(df, 2, 'Relapse Free Status')\n",
    "\n",
    "# Display the test statistic and p-value\n",
    "print(f'Log-Rank Test Statistic: {test_statistic:.3f}')\n",
    "print(f'P-value: {p_value:.3f}')"
   ],
   "metadata": {
    "collapsed": false,
    "ExecuteTime": {
     "end_time": "2024-01-29T23:34:08.146795Z",
     "start_time": "2024-01-29T23:34:08.112293Z"
    }
   },
   "id": "609a6bf5330e74e3"
  },
  {
   "cell_type": "code",
   "execution_count": 10,
   "outputs": [
    {
     "name": "stdout",
     "output_type": "stream",
     "text": [
      "Log-Rank Test Statistic: 0.430\n",
      "P-value: 0.512\n"
     ]
    }
   ],
   "source": [
    "test_statistic, p_value = LogRankTest(df, 2, 'Overall Survival')\n",
    "\n",
    "# Display the test statistic and p-value\n",
    "print(f'Log-Rank Test Statistic: {test_statistic:.3f}')\n",
    "print(f'P-value: {p_value:.3f}')"
   ],
   "metadata": {
    "collapsed": false,
    "ExecuteTime": {
     "end_time": "2024-01-29T23:34:08.479618Z",
     "start_time": "2024-01-29T23:34:08.452822Z"
    }
   },
   "id": "292b0263c6bed912"
  },
  {
   "cell_type": "markdown",
   "source": [
    "## Tumor Stage 3"
   ],
   "metadata": {
    "collapsed": false
   },
   "id": "8ba69cca50899ae6"
  },
  {
   "cell_type": "code",
   "execution_count": 11,
   "outputs": [
    {
     "name": "stdout",
     "output_type": "stream",
     "text": [
      "Log-Rank Test Statistic: 0.334\n",
      "P-value: 0.563\n"
     ]
    }
   ],
   "source": [
    "test_statistic, p_value = LogRankTest(df, 3, 'Relapse Free Status')\n",
    "\n",
    "# Display the test statistic and p-value\n",
    "print(f'Log-Rank Test Statistic: {test_statistic:.3f}')\n",
    "print(f'P-value: {p_value:.3f}')"
   ],
   "metadata": {
    "collapsed": false,
    "ExecuteTime": {
     "end_time": "2024-01-29T23:34:09.172540Z",
     "start_time": "2024-01-29T23:34:09.157561Z"
    }
   },
   "id": "4cb6ad787d6e95bf"
  },
  {
   "cell_type": "code",
   "execution_count": 12,
   "outputs": [
    {
     "name": "stdout",
     "output_type": "stream",
     "text": [
      "Log-Rank Test Statistic: 1.469\n",
      "P-value: 0.225\n"
     ]
    }
   ],
   "source": [
    "test_statistic, p_value = LogRankTest(df, 3, 'Overall Survival')\n",
    "\n",
    "# Display the test statistic and p-value\n",
    "print(f'Log-Rank Test Statistic: {test_statistic:.3f}')\n",
    "print(f'P-value: {p_value:.3f}')"
   ],
   "metadata": {
    "collapsed": false,
    "ExecuteTime": {
     "end_time": "2024-01-29T23:34:09.527155Z",
     "start_time": "2024-01-29T23:34:09.507522Z"
    }
   },
   "id": "4c04207d71484dd9"
  },
  {
   "cell_type": "code",
   "execution_count": null,
   "outputs": [],
   "source": [],
   "metadata": {
    "collapsed": false
   },
   "id": "2a4fb6c09581ff5d"
  }
 ],
 "metadata": {
  "kernelspec": {
   "display_name": "Python 3",
   "language": "python",
   "name": "python3"
  },
  "language_info": {
   "codemirror_mode": {
    "name": "ipython",
    "version": 2
   },
   "file_extension": ".py",
   "mimetype": "text/x-python",
   "name": "python",
   "nbconvert_exporter": "python",
   "pygments_lexer": "ipython2",
   "version": "2.7.6"
  }
 },
 "nbformat": 4,
 "nbformat_minor": 5
}
