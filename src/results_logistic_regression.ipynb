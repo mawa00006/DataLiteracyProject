{
 "cells": [
  {
   "cell_type": "code",
   "execution_count": 14,
   "id": "initial_id",
   "metadata": {
    "collapsed": true,
    "ExecuteTime": {
     "end_time": "2024-01-29T22:31:45.994277Z",
     "start_time": "2024-01-29T22:31:45.946377Z"
    }
   },
   "outputs": [],
   "source": []
  },
  {
   "cell_type": "code",
   "execution_count": 15,
   "outputs": [],
   "source": [
    "import numpy as np\n",
    "import pandas as pd\n",
    "from logistic_regression import LogisticRegression\n",
    "\n"
   ],
   "metadata": {
    "collapsed": false,
    "ExecuteTime": {
     "end_time": "2024-01-29T22:31:46.048035Z",
     "start_time": "2024-01-29T22:31:45.953015Z"
    }
   },
   "id": "c7732747b19a9d75"
  },
  {
   "cell_type": "code",
   "execution_count": 16,
   "outputs": [],
   "source": [
    "# Read the data\n",
    "data = pd.read_csv(\"../dat/preprocessed_brca_metabric_clinical_data.tsv\", sep='\\t')\n",
    "\n",
    "# features for multiple logistic regression\n",
    "features = ['Age at Diagnosis', 'ER Status Binary', 'Neoplasm Histologic Grade',\n",
    "                'HER2 Status Binary', 'Lymph nodes examined positive', 'Mutation Count', 'PR Status Binary', 'Tumor Size', 'Tumor Stage', 'Cancer Type Detailed Encoded', 'Integrative Cluster Encoded']\n",
    "\n",
    "\n",
    "['Surgery', 'Chemotherapy', 'Radio Therapy', 'Hormone Therapy']\n",
    "interventions = ['Surgery', 'Chemotherapy', 'Radio Therapy', 'Hormone Therapy','Surgery Multiple', 'Chemotherapy Multiple', 'Radio Therapy Multiple', 'Hormone Therapy Multiple']\n",
    "measurements = ['Test Accuracy', 'ROC AUC', 'Pseudo R2']\n",
    "\n",
    "# Dataframe to store test accuracy, F1 Score, and Pseudo R2\n",
    "result_df = pd.DataFrame(index=interventions, columns=measurements)\n",
    "\n",
    "# Dataframe to store p-values for the single logistic regression\n",
    "p_value_df_single = pd.DataFrame(index=['Surgery', 'Chemotherapy', 'Radio Therapy', 'Hormone Therapy'] , columns=['Age at Diagnosis'])\n",
    "\n",
    "# Dataframe to store p-values for the multiple logistic regression\n",
    "p_value_df_multiple = pd.DataFrame(index=['Surgery Multiple', 'Chemotherapy Multiple', 'Radio Therapy Multiple', 'Hormone Therapy Multiple'] , columns=features)"
   ],
   "metadata": {
    "collapsed": false,
    "ExecuteTime": {
     "end_time": "2024-01-29T22:31:46.078729Z",
     "start_time": "2024-01-29T22:31:45.961829Z"
    }
   },
   "id": "34cbb8438f8c48e1"
  },
  {
   "cell_type": "code",
   "execution_count": 16,
   "outputs": [],
   "source": [],
   "metadata": {
    "collapsed": false,
    "ExecuteTime": {
     "end_time": "2024-01-29T22:31:46.078963Z",
     "start_time": "2024-01-29T22:31:45.983944Z"
    }
   },
   "id": "177d4524ef03c52c"
  },
  {
   "cell_type": "markdown",
   "source": [
    "# 1. Logistic regression"
   ],
   "metadata": {
    "collapsed": false
   },
   "id": "69ce6131d05e83bd"
  },
  {
   "cell_type": "markdown",
   "source": [
    "## 1.1 Surgery"
   ],
   "metadata": {
    "collapsed": false
   },
   "id": "9af6a6f40f018dc2"
  },
  {
   "cell_type": "code",
   "execution_count": 17,
   "outputs": [
    {
     "name": "stdout",
     "output_type": "stream",
     "text": [
      "Optimization terminated successfully.\n",
      "         Current function value: 0.680156\n",
      "         Iterations 4\n"
     ]
    },
    {
     "data": {
      "text/plain": "        Pred 0  Pred 1\nTrue 0       0     141\nTrue 1       0     185",
      "text/html": "<div>\n<style scoped>\n    .dataframe tbody tr th:only-of-type {\n        vertical-align: middle;\n    }\n\n    .dataframe tbody tr th {\n        vertical-align: top;\n    }\n\n    .dataframe thead th {\n        text-align: right;\n    }\n</style>\n<table border=\"1\" class=\"dataframe\">\n  <thead>\n    <tr style=\"text-align: right;\">\n      <th></th>\n      <th>Pred 0</th>\n      <th>Pred 1</th>\n    </tr>\n  </thead>\n  <tbody>\n    <tr>\n      <th>True 0</th>\n      <td>0</td>\n      <td>141</td>\n    </tr>\n    <tr>\n      <th>True 1</th>\n      <td>0</td>\n      <td>185</td>\n    </tr>\n  </tbody>\n</table>\n</div>"
     },
     "metadata": {},
     "output_type": "display_data"
    },
    {
     "name": "stdout",
     "output_type": "stream",
     "text": [
      "None\n"
     ]
    }
   ],
   "source": [
    "# LogReg single\n",
    "p_values, test_accuracy, roc_auc, conf_matrix, prsquared = LogisticRegression(data,'Type of Breast Surgery Binary', ['Age at Diagnosis'])\n",
    "\n",
    "# Save results\n",
    "result_df.loc['Surgery'] = test_accuracy, roc_auc, prsquared\n",
    "p_value_df_single.loc['Surgery'] = str(*p_values.values)\n",
    "\n",
    "print(display(conf_matrix))"
   ],
   "metadata": {
    "collapsed": false,
    "ExecuteTime": {
     "end_time": "2024-01-29T22:31:46.080322Z",
     "start_time": "2024-01-29T22:31:45.993928Z"
    }
   },
   "id": "ace190234a768f06"
  },
  {
   "cell_type": "code",
   "execution_count": 18,
   "outputs": [
    {
     "name": "stdout",
     "output_type": "stream",
     "text": [
      "Optimization terminated successfully.\n",
      "         Current function value: 0.633384\n",
      "         Iterations 6\n"
     ]
    },
    {
     "data": {
      "text/plain": "        Pred 0  Pred 1\nTrue 0      66      75\nTrue 1      52     133",
      "text/html": "<div>\n<style scoped>\n    .dataframe tbody tr th:only-of-type {\n        vertical-align: middle;\n    }\n\n    .dataframe tbody tr th {\n        vertical-align: top;\n    }\n\n    .dataframe thead th {\n        text-align: right;\n    }\n</style>\n<table border=\"1\" class=\"dataframe\">\n  <thead>\n    <tr style=\"text-align: right;\">\n      <th></th>\n      <th>Pred 0</th>\n      <th>Pred 1</th>\n    </tr>\n  </thead>\n  <tbody>\n    <tr>\n      <th>True 0</th>\n      <td>66</td>\n      <td>75</td>\n    </tr>\n    <tr>\n      <th>True 1</th>\n      <td>52</td>\n      <td>133</td>\n    </tr>\n  </tbody>\n</table>\n</div>"
     },
     "metadata": {},
     "output_type": "display_data"
    },
    {
     "name": "stdout",
     "output_type": "stream",
     "text": [
      "None\n"
     ]
    }
   ],
   "source": [
    "# LogReg multiple\n",
    "p_values, test_accuracy, roc_auc, conf_matrix, prsquared = LogisticRegression(data, 'Type of Breast Surgery Binary', features)\n",
    "\n",
    "result_df.loc['Surgery Multiple'] = test_accuracy , roc_auc, prsquared\n",
    "p_value_df_multiple.loc['Surgery Multiple'] = [str(value) for value in p_values.values]\n",
    "\n",
    "print(display(conf_matrix))"
   ],
   "metadata": {
    "collapsed": false,
    "ExecuteTime": {
     "end_time": "2024-01-29T22:31:46.080913Z",
     "start_time": "2024-01-29T22:31:46.030881Z"
    }
   },
   "id": "c7bbffd5dd3facfd"
  },
  {
   "cell_type": "markdown",
   "source": [
    "## 1.2 Chemotherapy"
   ],
   "metadata": {
    "collapsed": false
   },
   "id": "2e322916aafdf67e"
  },
  {
   "cell_type": "markdown",
   "source": [],
   "metadata": {
    "collapsed": false
   },
   "id": "9f916054ad8ed25f"
  },
  {
   "cell_type": "code",
   "execution_count": 19,
   "outputs": [
    {
     "name": "stdout",
     "output_type": "stream",
     "text": [
      "Optimization terminated successfully.\n",
      "         Current function value: 0.498638\n",
      "         Iterations 5\n"
     ]
    },
    {
     "data": {
      "text/plain": "        Pred 0  Pred 1\nTrue 0     265       0\nTrue 1      61       0",
      "text/html": "<div>\n<style scoped>\n    .dataframe tbody tr th:only-of-type {\n        vertical-align: middle;\n    }\n\n    .dataframe tbody tr th {\n        vertical-align: top;\n    }\n\n    .dataframe thead th {\n        text-align: right;\n    }\n</style>\n<table border=\"1\" class=\"dataframe\">\n  <thead>\n    <tr style=\"text-align: right;\">\n      <th></th>\n      <th>Pred 0</th>\n      <th>Pred 1</th>\n    </tr>\n  </thead>\n  <tbody>\n    <tr>\n      <th>True 0</th>\n      <td>265</td>\n      <td>0</td>\n    </tr>\n    <tr>\n      <th>True 1</th>\n      <td>61</td>\n      <td>0</td>\n    </tr>\n  </tbody>\n</table>\n</div>"
     },
     "metadata": {},
     "output_type": "display_data"
    },
    {
     "name": "stdout",
     "output_type": "stream",
     "text": [
      "None\n"
     ]
    }
   ],
   "source": [
    "# LogReg single\n",
    "p_values, test_accuracy, roc_auc, conf_matrix, prsquared = LogisticRegression(data, 'Chemotherapy Binary', ['Age at Diagnosis'])\n",
    "\n",
    "# Save results\n",
    "result_df.loc['Chemotherapy'] = test_accuracy , roc_auc, prsquared\n",
    "p_value_df_single.loc['Chemotherapy'] = str(*p_values.values)\n",
    "\n",
    "print(display(conf_matrix))"
   ],
   "metadata": {
    "collapsed": false,
    "ExecuteTime": {
     "end_time": "2024-01-29T22:31:46.128175Z",
     "start_time": "2024-01-29T22:31:46.057338Z"
    }
   },
   "id": "3abb98c857925f8b"
  },
  {
   "cell_type": "code",
   "execution_count": 20,
   "outputs": [
    {
     "name": "stdout",
     "output_type": "stream",
     "text": [
      "Optimization terminated successfully.\n",
      "         Current function value: 0.280119\n",
      "         Iterations 8\n"
     ]
    },
    {
     "data": {
      "text/plain": "        Pred 0  Pred 1\nTrue 0     251      14\nTrue 1      19      42",
      "text/html": "<div>\n<style scoped>\n    .dataframe tbody tr th:only-of-type {\n        vertical-align: middle;\n    }\n\n    .dataframe tbody tr th {\n        vertical-align: top;\n    }\n\n    .dataframe thead th {\n        text-align: right;\n    }\n</style>\n<table border=\"1\" class=\"dataframe\">\n  <thead>\n    <tr style=\"text-align: right;\">\n      <th></th>\n      <th>Pred 0</th>\n      <th>Pred 1</th>\n    </tr>\n  </thead>\n  <tbody>\n    <tr>\n      <th>True 0</th>\n      <td>251</td>\n      <td>14</td>\n    </tr>\n    <tr>\n      <th>True 1</th>\n      <td>19</td>\n      <td>42</td>\n    </tr>\n  </tbody>\n</table>\n</div>"
     },
     "metadata": {},
     "output_type": "display_data"
    },
    {
     "name": "stdout",
     "output_type": "stream",
     "text": [
      "None\n"
     ]
    }
   ],
   "source": [
    "# LogReg multiple\n",
    "p_values, test_accuracy, roc_auc, conf_matrix, prsquared = LogisticRegression(data, 'Chemotherapy Binary', features)\n",
    "\n",
    "result_df.loc['Chemotherapy Multiple'] = test_accuracy , roc_auc, prsquared\n",
    "p_value_df_multiple.loc['Chemotherapy Multiple'] = [str(value) for value in p_values.values]\n",
    "\n",
    "print(display(conf_matrix))"
   ],
   "metadata": {
    "collapsed": false,
    "ExecuteTime": {
     "end_time": "2024-01-29T22:31:46.214123Z",
     "start_time": "2024-01-29T22:31:46.076440Z"
    }
   },
   "id": "598fa07fa97c352d"
  },
  {
   "cell_type": "markdown",
   "source": [
    "## 1.3 Radio Therapy"
   ],
   "metadata": {
    "collapsed": false
   },
   "id": "e7ae7fa49e91a095"
  },
  {
   "cell_type": "code",
   "execution_count": 21,
   "outputs": [
    {
     "name": "stdout",
     "output_type": "stream",
     "text": [
      "Optimization terminated successfully.\n",
      "         Current function value: 0.640830\n",
      "         Iterations 4\n"
     ]
    },
    {
     "data": {
      "text/plain": "        Pred 0  Pred 1\nTrue 0       0     115\nTrue 1       0     211",
      "text/html": "<div>\n<style scoped>\n    .dataframe tbody tr th:only-of-type {\n        vertical-align: middle;\n    }\n\n    .dataframe tbody tr th {\n        vertical-align: top;\n    }\n\n    .dataframe thead th {\n        text-align: right;\n    }\n</style>\n<table border=\"1\" class=\"dataframe\">\n  <thead>\n    <tr style=\"text-align: right;\">\n      <th></th>\n      <th>Pred 0</th>\n      <th>Pred 1</th>\n    </tr>\n  </thead>\n  <tbody>\n    <tr>\n      <th>True 0</th>\n      <td>0</td>\n      <td>115</td>\n    </tr>\n    <tr>\n      <th>True 1</th>\n      <td>0</td>\n      <td>211</td>\n    </tr>\n  </tbody>\n</table>\n</div>"
     },
     "metadata": {},
     "output_type": "display_data"
    },
    {
     "name": "stdout",
     "output_type": "stream",
     "text": [
      "None\n"
     ]
    }
   ],
   "source": [
    "# LogReg single\n",
    "p_values, test_accuracy, roc_auc, conf_matrix, prsquared = LogisticRegression(data, 'Radio Therapy Binary', ['Age at Diagnosis'])\n",
    "\n",
    "# Save results\n",
    "result_df.loc['Radio Therapy'] = test_accuracy , roc_auc, prsquared\n",
    "p_value_df_single.loc['Radio Therapy'] = str(*p_values.values)\n",
    "\n",
    "print(display(conf_matrix))"
   ],
   "metadata": {
    "collapsed": false,
    "ExecuteTime": {
     "end_time": "2024-01-29T22:31:46.214369Z",
     "start_time": "2024-01-29T22:31:46.101453Z"
    }
   },
   "id": "652448ef441ed66d"
  },
  {
   "cell_type": "code",
   "execution_count": 22,
   "outputs": [
    {
     "name": "stdout",
     "output_type": "stream",
     "text": [
      "Optimization terminated successfully.\n",
      "         Current function value: 0.600399\n",
      "         Iterations 6\n"
     ]
    },
    {
     "data": {
      "text/plain": "        Pred 0  Pred 1\nTrue 0      13     102\nTrue 1      24     187",
      "text/html": "<div>\n<style scoped>\n    .dataframe tbody tr th:only-of-type {\n        vertical-align: middle;\n    }\n\n    .dataframe tbody tr th {\n        vertical-align: top;\n    }\n\n    .dataframe thead th {\n        text-align: right;\n    }\n</style>\n<table border=\"1\" class=\"dataframe\">\n  <thead>\n    <tr style=\"text-align: right;\">\n      <th></th>\n      <th>Pred 0</th>\n      <th>Pred 1</th>\n    </tr>\n  </thead>\n  <tbody>\n    <tr>\n      <th>True 0</th>\n      <td>13</td>\n      <td>102</td>\n    </tr>\n    <tr>\n      <th>True 1</th>\n      <td>24</td>\n      <td>187</td>\n    </tr>\n  </tbody>\n</table>\n</div>"
     },
     "metadata": {},
     "output_type": "display_data"
    },
    {
     "name": "stdout",
     "output_type": "stream",
     "text": [
      "None\n"
     ]
    }
   ],
   "source": [
    "# LogReg multiple\n",
    "p_values, test_accuracy, roc_auc, conf_matrix, prsquared = LogisticRegression(data, 'Radio Therapy Binary', features)\n",
    "\n",
    "result_df.loc['Radio Therapy Multiple'] = test_accuracy , roc_auc, prsquared\n",
    "p_value_df_multiple.loc['Radio Therapy Multiple'] = [str(value) for value in p_values.values]\n",
    "\n",
    "print(display(conf_matrix))"
   ],
   "metadata": {
    "collapsed": false,
    "ExecuteTime": {
     "end_time": "2024-01-29T22:31:46.259238Z",
     "start_time": "2024-01-29T22:31:46.118861Z"
    }
   },
   "id": "31a66e193a8aa171"
  },
  {
   "cell_type": "markdown",
   "source": [
    "## 1.4 Hormone Therapy"
   ],
   "metadata": {
    "collapsed": false
   },
   "id": "9f7f0da660959ec7"
  },
  {
   "cell_type": "code",
   "execution_count": 23,
   "outputs": [
    {
     "name": "stdout",
     "output_type": "stream",
     "text": [
      "Optimization terminated successfully.\n",
      "         Current function value: 0.661078\n",
      "         Iterations 4\n"
     ]
    },
    {
     "data": {
      "text/plain": "        Pred 0  Pred 1\nTrue 0       0     127\nTrue 1       0     199",
      "text/html": "<div>\n<style scoped>\n    .dataframe tbody tr th:only-of-type {\n        vertical-align: middle;\n    }\n\n    .dataframe tbody tr th {\n        vertical-align: top;\n    }\n\n    .dataframe thead th {\n        text-align: right;\n    }\n</style>\n<table border=\"1\" class=\"dataframe\">\n  <thead>\n    <tr style=\"text-align: right;\">\n      <th></th>\n      <th>Pred 0</th>\n      <th>Pred 1</th>\n    </tr>\n  </thead>\n  <tbody>\n    <tr>\n      <th>True 0</th>\n      <td>0</td>\n      <td>127</td>\n    </tr>\n    <tr>\n      <th>True 1</th>\n      <td>0</td>\n      <td>199</td>\n    </tr>\n  </tbody>\n</table>\n</div>"
     },
     "metadata": {},
     "output_type": "display_data"
    },
    {
     "name": "stdout",
     "output_type": "stream",
     "text": [
      "None\n"
     ]
    }
   ],
   "source": [
    "# LogReg single\n",
    "p_values, test_accuracy, roc_auc, conf_matrix, prsquared = LogisticRegression(data, 'Hormone Therapy Binary', ['Age at Diagnosis'])\n",
    "\n",
    "# Save results\n",
    "result_df.loc['Hormone Therapy'] = test_accuracy , roc_auc, prsquared\n",
    "p_value_df_single.loc['Hormone Therapy'] = str(*p_values.values)\n",
    "\n",
    "print(display(conf_matrix))"
   ],
   "metadata": {
    "collapsed": false,
    "ExecuteTime": {
     "end_time": "2024-01-29T22:31:46.259700Z",
     "start_time": "2024-01-29T22:31:46.148704Z"
    }
   },
   "id": "5833fc0d3db90593"
  },
  {
   "cell_type": "code",
   "execution_count": 24,
   "outputs": [
    {
     "name": "stdout",
     "output_type": "stream",
     "text": [
      "Optimization terminated successfully.\n",
      "         Current function value: 0.544613\n",
      "         Iterations 6\n"
     ]
    },
    {
     "data": {
      "text/plain": "        Pred 0  Pred 1\nTrue 0      55      72\nTrue 1      25     174",
      "text/html": "<div>\n<style scoped>\n    .dataframe tbody tr th:only-of-type {\n        vertical-align: middle;\n    }\n\n    .dataframe tbody tr th {\n        vertical-align: top;\n    }\n\n    .dataframe thead th {\n        text-align: right;\n    }\n</style>\n<table border=\"1\" class=\"dataframe\">\n  <thead>\n    <tr style=\"text-align: right;\">\n      <th></th>\n      <th>Pred 0</th>\n      <th>Pred 1</th>\n    </tr>\n  </thead>\n  <tbody>\n    <tr>\n      <th>True 0</th>\n      <td>55</td>\n      <td>72</td>\n    </tr>\n    <tr>\n      <th>True 1</th>\n      <td>25</td>\n      <td>174</td>\n    </tr>\n  </tbody>\n</table>\n</div>"
     },
     "metadata": {},
     "output_type": "display_data"
    },
    {
     "name": "stdout",
     "output_type": "stream",
     "text": [
      "None\n"
     ]
    }
   ],
   "source": [
    "# LogReg multiple\n",
    "p_values, test_accuracy, roc_auc, conf_matrix, prsquared = LogisticRegression(data, 'Hormone Therapy Binary', features)\n",
    "\n",
    "result_df.loc['Hormone Therapy Multiple'] = test_accuracy , roc_auc, prsquared\n",
    "p_value_df_multiple.loc['Hormone Therapy Multiple'] = [str(value) for value in p_values.values]\n",
    "\n",
    "print(display(conf_matrix))"
   ],
   "metadata": {
    "collapsed": false,
    "ExecuteTime": {
     "end_time": "2024-01-29T22:31:46.260107Z",
     "start_time": "2024-01-29T22:31:46.167084Z"
    }
   },
   "id": "c3d0dec72734dfb4"
  },
  {
   "cell_type": "code",
   "execution_count": 25,
   "outputs": [
    {
     "data": {
      "text/plain": "                         Test Accuracy ROC AUC Pseudo R2\nSurgery                           0.57     0.5     0.006\nChemotherapy                      0.81     0.5     0.078\nRadio Therapy                     0.65     0.5    -0.015\nHormone Therapy                   0.61     0.5     0.019\nSurgery Multiple                  0.61    0.59     0.074\nChemotherapy Multiple              0.9    0.82     0.482\nRadio Therapy Multiple            0.61     0.5     0.049\nHormone Therapy Multiple           0.7    0.65     0.192",
      "text/html": "<div>\n<style scoped>\n    .dataframe tbody tr th:only-of-type {\n        vertical-align: middle;\n    }\n\n    .dataframe tbody tr th {\n        vertical-align: top;\n    }\n\n    .dataframe thead th {\n        text-align: right;\n    }\n</style>\n<table border=\"1\" class=\"dataframe\">\n  <thead>\n    <tr style=\"text-align: right;\">\n      <th></th>\n      <th>Test Accuracy</th>\n      <th>ROC AUC</th>\n      <th>Pseudo R2</th>\n    </tr>\n  </thead>\n  <tbody>\n    <tr>\n      <th>Surgery</th>\n      <td>0.57</td>\n      <td>0.5</td>\n      <td>0.006</td>\n    </tr>\n    <tr>\n      <th>Chemotherapy</th>\n      <td>0.81</td>\n      <td>0.5</td>\n      <td>0.078</td>\n    </tr>\n    <tr>\n      <th>Radio Therapy</th>\n      <td>0.65</td>\n      <td>0.5</td>\n      <td>-0.015</td>\n    </tr>\n    <tr>\n      <th>Hormone Therapy</th>\n      <td>0.61</td>\n      <td>0.5</td>\n      <td>0.019</td>\n    </tr>\n    <tr>\n      <th>Surgery Multiple</th>\n      <td>0.61</td>\n      <td>0.59</td>\n      <td>0.074</td>\n    </tr>\n    <tr>\n      <th>Chemotherapy Multiple</th>\n      <td>0.9</td>\n      <td>0.82</td>\n      <td>0.482</td>\n    </tr>\n    <tr>\n      <th>Radio Therapy Multiple</th>\n      <td>0.61</td>\n      <td>0.5</td>\n      <td>0.049</td>\n    </tr>\n    <tr>\n      <th>Hormone Therapy Multiple</th>\n      <td>0.7</td>\n      <td>0.65</td>\n      <td>0.192</td>\n    </tr>\n  </tbody>\n</table>\n</div>"
     },
     "execution_count": 25,
     "metadata": {},
     "output_type": "execute_result"
    }
   ],
   "source": [
    "result_df.to_latex('../doc/results_logReg.tex',multicolumn=True,  formatters={'Test Accuracy': str, 'ROC AUC': str, 'Pseudo R2': str}, float_format=\"%.2f\".format)\n",
    "result_df"
   ],
   "metadata": {
    "collapsed": false,
    "ExecuteTime": {
     "end_time": "2024-01-29T22:31:46.260331Z",
     "start_time": "2024-01-29T22:31:46.186953Z"
    }
   },
   "id": "b4fd36656bda390f"
  },
  {
   "cell_type": "code",
   "execution_count": 26,
   "outputs": [
    {
     "data": {
      "text/plain": "                               Age at Diagnosis        ER Status Binary  \\\nSurgery Multiple           0.057618603476587676      0.6031676092671987   \nChemotherapy Multiple     6.414820713704438e-28   6.246802998005148e-09   \nRadio Therapy Multiple    0.0020067832353972215      0.6256235237930078   \nHormone Therapy Multiple    0.19818647922724142  1.7649020752995132e-14   \n\n                         Neoplasm Histologic Grade   HER2 Status Binary  \\\nSurgery Multiple             0.0019254683689583923   0.1335838086462859   \nChemotherapy Multiple        6.283314593160212e-10   0.3794909908007046   \nRadio Therapy Multiple      1.7587082147643823e-07  0.36765131593222034   \nHormone Therapy Multiple      0.062432904370452194   0.6145185709946649   \n\n                         Lymph nodes examined positive  \\\nSurgery Multiple                0.00031064037701305776   \nChemotherapy Multiple            0.0019166295749873607   \nRadio Therapy Multiple            0.008555773249164338   \nHormone Therapy Multiple         9.304900245363282e-05   \n\n                                  Mutation Count     PR Status Binary  \\\nSurgery Multiple              0.3345969122163638  0.05052076359566386   \nChemotherapy Multiple     1.6100523545760406e-05   0.9812902528206325   \nRadio Therapy Multiple      0.023792272219982615  0.21565034440075237   \nHormone Therapy Multiple     2.7917868150153e-12  0.17962034693715934   \n\n                                     Tumor Size            Tumor Stage  \\\nSurgery Multiple          5.768428269167222e-06     0.9953143861978551   \nChemotherapy Multiple        0.0410446104919465  3.673123688275864e-13   \nRadio Therapy Multiple      0.42774638241632823   0.013013522156543287   \nHormone Therapy Multiple      0.929774340413748   0.017882202956569056   \n\n                         Cancer Type Detailed Encoded  \\\nSurgery Multiple                   0.3145394174118685   \nChemotherapy Multiple             0.24206188070221535   \nRadio Therapy Multiple             0.3385510361840903   \nHormone Therapy Multiple          0.18760845524654302   \n\n                         Integrative Cluster Encoded  \nSurgery Multiple                 0.14735011630207598  \nChemotherapy Multiple            0.46895984165607973  \nRadio Therapy Multiple           0.46532563215711764  \nHormone Therapy Multiple       7.945613331913703e-05  ",
      "text/html": "<div>\n<style scoped>\n    .dataframe tbody tr th:only-of-type {\n        vertical-align: middle;\n    }\n\n    .dataframe tbody tr th {\n        vertical-align: top;\n    }\n\n    .dataframe thead th {\n        text-align: right;\n    }\n</style>\n<table border=\"1\" class=\"dataframe\">\n  <thead>\n    <tr style=\"text-align: right;\">\n      <th></th>\n      <th>Age at Diagnosis</th>\n      <th>ER Status Binary</th>\n      <th>Neoplasm Histologic Grade</th>\n      <th>HER2 Status Binary</th>\n      <th>Lymph nodes examined positive</th>\n      <th>Mutation Count</th>\n      <th>PR Status Binary</th>\n      <th>Tumor Size</th>\n      <th>Tumor Stage</th>\n      <th>Cancer Type Detailed Encoded</th>\n      <th>Integrative Cluster Encoded</th>\n    </tr>\n  </thead>\n  <tbody>\n    <tr>\n      <th>Surgery Multiple</th>\n      <td>0.057618603476587676</td>\n      <td>0.6031676092671987</td>\n      <td>0.0019254683689583923</td>\n      <td>0.1335838086462859</td>\n      <td>0.00031064037701305776</td>\n      <td>0.3345969122163638</td>\n      <td>0.05052076359566386</td>\n      <td>5.768428269167222e-06</td>\n      <td>0.9953143861978551</td>\n      <td>0.3145394174118685</td>\n      <td>0.14735011630207598</td>\n    </tr>\n    <tr>\n      <th>Chemotherapy Multiple</th>\n      <td>6.414820713704438e-28</td>\n      <td>6.246802998005148e-09</td>\n      <td>6.283314593160212e-10</td>\n      <td>0.3794909908007046</td>\n      <td>0.0019166295749873607</td>\n      <td>1.6100523545760406e-05</td>\n      <td>0.9812902528206325</td>\n      <td>0.0410446104919465</td>\n      <td>3.673123688275864e-13</td>\n      <td>0.24206188070221535</td>\n      <td>0.46895984165607973</td>\n    </tr>\n    <tr>\n      <th>Radio Therapy Multiple</th>\n      <td>0.0020067832353972215</td>\n      <td>0.6256235237930078</td>\n      <td>1.7587082147643823e-07</td>\n      <td>0.36765131593222034</td>\n      <td>0.008555773249164338</td>\n      <td>0.023792272219982615</td>\n      <td>0.21565034440075237</td>\n      <td>0.42774638241632823</td>\n      <td>0.013013522156543287</td>\n      <td>0.3385510361840903</td>\n      <td>0.46532563215711764</td>\n    </tr>\n    <tr>\n      <th>Hormone Therapy Multiple</th>\n      <td>0.19818647922724142</td>\n      <td>1.7649020752995132e-14</td>\n      <td>0.062432904370452194</td>\n      <td>0.6145185709946649</td>\n      <td>9.304900245363282e-05</td>\n      <td>2.7917868150153e-12</td>\n      <td>0.17962034693715934</td>\n      <td>0.929774340413748</td>\n      <td>0.017882202956569056</td>\n      <td>0.18760845524654302</td>\n      <td>7.945613331913703e-05</td>\n    </tr>\n  </tbody>\n</table>\n</div>"
     },
     "execution_count": 26,
     "metadata": {},
     "output_type": "execute_result"
    }
   ],
   "source": [
    "p_value_df_multiple"
   ],
   "metadata": {
    "collapsed": false,
    "ExecuteTime": {
     "end_time": "2024-01-29T22:31:46.260910Z",
     "start_time": "2024-01-29T22:31:46.205957Z"
    }
   },
   "id": "72c75f4877461654"
  },
  {
   "cell_type": "code",
   "execution_count": 27,
   "outputs": [
    {
     "data": {
      "text/plain": "                       Age at Diagnosis\nSurgery           5.659892031625093e-07\nChemotherapy      9.389978889382198e-66\nRadio Therapy    1.1034480101173352e-22\nHormone Therapy   7.825316561842639e-15",
      "text/html": "<div>\n<style scoped>\n    .dataframe tbody tr th:only-of-type {\n        vertical-align: middle;\n    }\n\n    .dataframe tbody tr th {\n        vertical-align: top;\n    }\n\n    .dataframe thead th {\n        text-align: right;\n    }\n</style>\n<table border=\"1\" class=\"dataframe\">\n  <thead>\n    <tr style=\"text-align: right;\">\n      <th></th>\n      <th>Age at Diagnosis</th>\n    </tr>\n  </thead>\n  <tbody>\n    <tr>\n      <th>Surgery</th>\n      <td>5.659892031625093e-07</td>\n    </tr>\n    <tr>\n      <th>Chemotherapy</th>\n      <td>9.389978889382198e-66</td>\n    </tr>\n    <tr>\n      <th>Radio Therapy</th>\n      <td>1.1034480101173352e-22</td>\n    </tr>\n    <tr>\n      <th>Hormone Therapy</th>\n      <td>7.825316561842639e-15</td>\n    </tr>\n  </tbody>\n</table>\n</div>"
     },
     "execution_count": 27,
     "metadata": {},
     "output_type": "execute_result"
    }
   ],
   "source": [
    "p_value_df_single"
   ],
   "metadata": {
    "collapsed": false,
    "ExecuteTime": {
     "end_time": "2024-01-29T22:31:46.291062Z",
     "start_time": "2024-01-29T22:31:46.212782Z"
    }
   },
   "id": "704e62a68b32beef"
  },
  {
   "cell_type": "code",
   "execution_count": 27,
   "outputs": [],
   "source": [],
   "metadata": {
    "collapsed": false,
    "ExecuteTime": {
     "end_time": "2024-01-29T22:31:46.291245Z",
     "start_time": "2024-01-29T22:31:46.216396Z"
    }
   },
   "id": "8d0e92c23cfc119a"
  }
 ],
 "metadata": {
  "kernelspec": {
   "display_name": "Python 3",
   "language": "python",
   "name": "python3"
  },
  "language_info": {
   "codemirror_mode": {
    "name": "ipython",
    "version": 2
   },
   "file_extension": ".py",
   "mimetype": "text/x-python",
   "name": "python",
   "nbconvert_exporter": "python",
   "pygments_lexer": "ipython2",
   "version": "2.7.6"
  }
 },
 "nbformat": 4,
 "nbformat_minor": 5
}
