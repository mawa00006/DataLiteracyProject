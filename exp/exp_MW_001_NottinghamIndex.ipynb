{
 "cells": [
  {
   "cell_type": "code",
   "execution_count": 85,
   "id": "initial_id",
   "metadata": {
    "collapsed": true,
    "ExecuteTime": {
     "end_time": "2024-01-04T15:30:13.743542Z",
     "start_time": "2024-01-04T15:30:13.740851Z"
    }
   },
   "outputs": [],
   "source": [
    "import pandas as pd\n",
    "import numpy as np\n",
    "import matplotlib.pyplot as plt\n",
    "import seaborn as sns\n",
    "\n",
    "np.random.seed(432)"
   ]
  },
  {
   "cell_type": "code",
   "execution_count": 86,
   "outputs": [],
   "source": [
    "data = pd.read_csv('Data/brca_metabric_clinical_data.tsv', sep='\\t', header=0)"
   ],
   "metadata": {
    "collapsed": false,
    "ExecuteTime": {
     "end_time": "2024-01-04T15:30:14.159283Z",
     "start_time": "2024-01-04T15:30:14.143023Z"
    }
   },
   "id": "ee4a5601da6833ed"
  },
  {
   "cell_type": "code",
   "execution_count": 87,
   "outputs": [],
   "source": [
    "def nottingham_partition(data):\n",
    "    nottingham_bins = [0, 2.4, 3.4, 5.4, 100]\n",
    "    labels = [1, 2, 3, 4]\n",
    "    data['Nottingham Partition'] = pd.cut(data['Nottingham prognostic index'], bins=nottingham_bins, labels=labels, include_lowest=False)\n",
    "    \n",
    "    nottingham_1 = data[data['Nottingham Partition'] == 1]\n",
    "    nottingham_2 = data[data['Nottingham Partition'] == 2]\n",
    "    nottingham_3 = data[data['Nottingham Partition'] == 3]\n",
    "    nottingham_4 = data[data['Nottingham Partition'] == 4]\n",
    "    \n",
    "    nottingham_df_list = [nottingham_1, nottingham_2, nottingham_3, nottingham_4]\n",
    "\n",
    "    return nottingham_df_list\n"
   ],
   "metadata": {
    "collapsed": false,
    "ExecuteTime": {
     "end_time": "2024-01-04T15:30:14.542614Z",
     "start_time": "2024-01-04T15:30:14.536154Z"
    }
   },
   "id": "877681970816c914"
  },
  {
   "cell_type": "code",
   "execution_count": 88,
   "outputs": [],
   "source": [
    "def survival_probs(nottingham_df_list, type='full'):\n",
    "    \n",
    "    out_df = None\n",
    "    i = 0\n",
    "    nott_bins = ['2.0-2.4', '2.4-3.4', '3.4-5.4', '>5.4']\n",
    "    for df in nottingham_df_list:\n",
    "        df = df[~pd.isna(df['Patient\\'s Vital Status'])]\n",
    "        df = df[~pd.isna(df['Overall Survival (Months)'])]\n",
    "      \n",
    "        year_survival = sum(df['Overall Survival (Months)'] >= 60) / len(df)\n",
    "        #print('5-Year Survival:', year_survival)\n",
    "        year_death = sum(df['Overall Survival (Months)'] < 60) / len(df)\n",
    "       # print('5-Year Death:', year_death)\n",
    "        \n",
    "        death_rate_under = sum((df['Overall Survival (Months)'] < 60) & (df['Patient\\'s Vital Status'] == 'Died of Disease')) / sum(df['Overall Survival (Months)'] < 60)\n",
    "       # print('Under 5-year disease death rate:', death_rate_under)\n",
    "        \n",
    "        prob = year_death * death_rate_under\n",
    "        #print('P(Dying from the disease in <5 Years):', prob)\n",
    "        #print('P(NOT dying from the disease in <5 Years):', 1-prob, '\\n')\n",
    "        \n",
    "        row = pd.DataFrame({'Type': [type], 'Nottingham Index': [nott_bins[i]] , '5-Year Survival Probability': [1-prob]})\n",
    "        \n",
    "        if out_df is None:\n",
    "            out_df = row\n",
    "        else:\n",
    "            out_df= pd.concat([out_df, row])\n",
    "        \n",
    "        i += 1\n",
    "    return out_df"
   ],
   "metadata": {
    "collapsed": false,
    "ExecuteTime": {
     "end_time": "2024-01-04T15:30:14.934978Z",
     "start_time": "2024-01-04T15:30:14.931592Z"
    }
   },
   "id": "260c41bee3de0990"
  },
  {
   "cell_type": "code",
   "execution_count": 89,
   "outputs": [],
   "source": [
    "full_nottingham = nottingham_partition(data)\n",
    "full_probs = survival_probs(full_nottingham)"
   ],
   "metadata": {
    "collapsed": false,
    "ExecuteTime": {
     "end_time": "2024-01-04T15:30:15.299180Z",
     "start_time": "2024-01-04T15:30:15.287061Z"
    }
   },
   "id": "6a7ea192152503e5"
  },
  {
   "cell_type": "code",
   "execution_count": 90,
   "outputs": [
    {
     "name": "stderr",
     "output_type": "stream",
     "text": [
      "/var/folders/5w/r4vhmg150j1br8m5s45ns0r40000gn/T/ipykernel_21977/3937379363.py:4: SettingWithCopyWarning: \n",
      "A value is trying to be set on a copy of a slice from a DataFrame.\n",
      "Try using .loc[row_indexer,col_indexer] = value instead\n",
      "\n",
      "See the caveats in the documentation: https://pandas.pydata.org/pandas-docs/stable/user_guide/indexing.html#returning-a-view-versus-a-copy\n",
      "  data['Nottingham Partition'] = pd.cut(data['Nottingham prognostic index'], bins=nottingham_bins, labels=labels, include_lowest=False)\n"
     ]
    },
    {
     "data": {
      "text/plain": "     Type Nottingham Index  5-Year Survival Probability\n0  ductal          2.0-2.4                     0.932692\n0  ductal          2.4-3.4                     0.929825\n0  ductal          3.4-5.4                     0.815618\n0  ductal             >5.4                     0.541667",
      "text/html": "<div>\n<style scoped>\n    .dataframe tbody tr th:only-of-type {\n        vertical-align: middle;\n    }\n\n    .dataframe tbody tr th {\n        vertical-align: top;\n    }\n\n    .dataframe thead th {\n        text-align: right;\n    }\n</style>\n<table border=\"1\" class=\"dataframe\">\n  <thead>\n    <tr style=\"text-align: right;\">\n      <th></th>\n      <th>Type</th>\n      <th>Nottingham Index</th>\n      <th>5-Year Survival Probability</th>\n    </tr>\n  </thead>\n  <tbody>\n    <tr>\n      <th>0</th>\n      <td>ductal</td>\n      <td>2.0-2.4</td>\n      <td>0.932692</td>\n    </tr>\n    <tr>\n      <th>0</th>\n      <td>ductal</td>\n      <td>2.4-3.4</td>\n      <td>0.929825</td>\n    </tr>\n    <tr>\n      <th>0</th>\n      <td>ductal</td>\n      <td>3.4-5.4</td>\n      <td>0.815618</td>\n    </tr>\n    <tr>\n      <th>0</th>\n      <td>ductal</td>\n      <td>&gt;5.4</td>\n      <td>0.541667</td>\n    </tr>\n  </tbody>\n</table>\n</div>"
     },
     "execution_count": 90,
     "metadata": {},
     "output_type": "execute_result"
    }
   ],
   "source": [
    "ductal_data = data[data['Cancer Type Detailed'] == 'Breast Invasive Ductal Carcinoma']\n",
    "ductal_nottingham = nottingham_partition(ductal_data)\n",
    "ductal_df = survival_probs(ductal_nottingham, 'ductal')\n",
    "ductal_df"
   ],
   "metadata": {
    "collapsed": false,
    "ExecuteTime": {
     "end_time": "2024-01-04T15:30:15.613027Z",
     "start_time": "2024-01-04T15:30:15.586873Z"
    }
   },
   "id": "60296c9d02bd7bac"
  },
  {
   "cell_type": "code",
   "execution_count": 91,
   "outputs": [
    {
     "name": "stderr",
     "output_type": "stream",
     "text": [
      "/var/folders/5w/r4vhmg150j1br8m5s45ns0r40000gn/T/ipykernel_21977/3937379363.py:4: SettingWithCopyWarning: \n",
      "A value is trying to be set on a copy of a slice from a DataFrame.\n",
      "Try using .loc[row_indexer,col_indexer] = value instead\n",
      "\n",
      "See the caveats in the documentation: https://pandas.pydata.org/pandas-docs/stable/user_guide/indexing.html#returning-a-view-versus-a-copy\n",
      "  data['Nottingham Partition'] = pd.cut(data['Nottingham prognostic index'], bins=nottingham_bins, labels=labels, include_lowest=False)\n"
     ]
    },
    {
     "data": {
      "text/plain": "      Type Nottingham Index  5-Year Survival Probability\n0  lobular          2.0-2.4                     0.941176\n0  lobular          2.4-3.4                     0.924528\n0  lobular          3.4-5.4                     0.781250\n0  lobular             >5.4                     0.500000",
      "text/html": "<div>\n<style scoped>\n    .dataframe tbody tr th:only-of-type {\n        vertical-align: middle;\n    }\n\n    .dataframe tbody tr th {\n        vertical-align: top;\n    }\n\n    .dataframe thead th {\n        text-align: right;\n    }\n</style>\n<table border=\"1\" class=\"dataframe\">\n  <thead>\n    <tr style=\"text-align: right;\">\n      <th></th>\n      <th>Type</th>\n      <th>Nottingham Index</th>\n      <th>5-Year Survival Probability</th>\n    </tr>\n  </thead>\n  <tbody>\n    <tr>\n      <th>0</th>\n      <td>lobular</td>\n      <td>2.0-2.4</td>\n      <td>0.941176</td>\n    </tr>\n    <tr>\n      <th>0</th>\n      <td>lobular</td>\n      <td>2.4-3.4</td>\n      <td>0.924528</td>\n    </tr>\n    <tr>\n      <th>0</th>\n      <td>lobular</td>\n      <td>3.4-5.4</td>\n      <td>0.781250</td>\n    </tr>\n    <tr>\n      <th>0</th>\n      <td>lobular</td>\n      <td>&gt;5.4</td>\n      <td>0.500000</td>\n    </tr>\n  </tbody>\n</table>\n</div>"
     },
     "execution_count": 91,
     "metadata": {},
     "output_type": "execute_result"
    }
   ],
   "source": [
    "lobular_data = data[data['Cancer Type Detailed'] == 'Breast Invasive Lobular Carcinoma']\n",
    "lobular_nottingham = nottingham_partition(lobular_data)\n",
    "survival_probs(lobular_nottingham)\n",
    "lobular_df = survival_probs(lobular_nottingham, 'lobular')\n",
    "lobular_df"
   ],
   "metadata": {
    "collapsed": false,
    "ExecuteTime": {
     "end_time": "2024-01-04T15:30:15.812577Z",
     "start_time": "2024-01-04T15:30:15.801543Z"
    }
   },
   "id": "3aa8b43aba7bf1c2"
  },
  {
   "cell_type": "code",
   "execution_count": 91,
   "outputs": [],
   "source": [],
   "metadata": {
    "collapsed": false,
    "ExecuteTime": {
     "end_time": "2024-01-04T15:30:16.201711Z",
     "start_time": "2024-01-04T15:30:16.196393Z"
    }
   },
   "id": "c8a04ea4160ec70a"
  },
  {
   "cell_type": "code",
   "execution_count": 92,
   "outputs": [
    {
     "name": "stderr",
     "output_type": "stream",
     "text": [
      "/var/folders/5w/r4vhmg150j1br8m5s45ns0r40000gn/T/ipykernel_21977/3937379363.py:4: SettingWithCopyWarning: \n",
      "A value is trying to be set on a copy of a slice from a DataFrame.\n",
      "Try using .loc[row_indexer,col_indexer] = value instead\n",
      "\n",
      "See the caveats in the documentation: https://pandas.pydata.org/pandas-docs/stable/user_guide/indexing.html#returning-a-view-versus-a-copy\n",
      "  data['Nottingham Partition'] = pd.cut(data['Nottingham prognostic index'], bins=nottingham_bins, labels=labels, include_lowest=False)\n"
     ]
    },
    {
     "data": {
      "text/plain": "    Type Nottingham Index  5-Year Survival Probability\n0  mixed          2.0-2.4                     0.937500\n0  mixed          2.4-3.4                     0.972222\n0  mixed          3.4-5.4                     0.813187\n0  mixed             >5.4                     0.687500",
      "text/html": "<div>\n<style scoped>\n    .dataframe tbody tr th:only-of-type {\n        vertical-align: middle;\n    }\n\n    .dataframe tbody tr th {\n        vertical-align: top;\n    }\n\n    .dataframe thead th {\n        text-align: right;\n    }\n</style>\n<table border=\"1\" class=\"dataframe\">\n  <thead>\n    <tr style=\"text-align: right;\">\n      <th></th>\n      <th>Type</th>\n      <th>Nottingham Index</th>\n      <th>5-Year Survival Probability</th>\n    </tr>\n  </thead>\n  <tbody>\n    <tr>\n      <th>0</th>\n      <td>mixed</td>\n      <td>2.0-2.4</td>\n      <td>0.937500</td>\n    </tr>\n    <tr>\n      <th>0</th>\n      <td>mixed</td>\n      <td>2.4-3.4</td>\n      <td>0.972222</td>\n    </tr>\n    <tr>\n      <th>0</th>\n      <td>mixed</td>\n      <td>3.4-5.4</td>\n      <td>0.813187</td>\n    </tr>\n    <tr>\n      <th>0</th>\n      <td>mixed</td>\n      <td>&gt;5.4</td>\n      <td>0.687500</td>\n    </tr>\n  </tbody>\n</table>\n</div>"
     },
     "execution_count": 92,
     "metadata": {},
     "output_type": "execute_result"
    }
   ],
   "source": [
    "mixed_data = data[data['Cancer Type Detailed'] == 'Breast Mixed Ductal and Lobular Carcinoma']\n",
    "mixed_nottingham = nottingham_partition(mixed_data)\n",
    "mixed_df = survival_probs(mixed_nottingham, 'mixed')\n",
    "mixed_df"
   ],
   "metadata": {
    "collapsed": false,
    "ExecuteTime": {
     "end_time": "2024-01-04T15:30:16.614542Z",
     "start_time": "2024-01-04T15:30:16.600034Z"
    }
   },
   "id": "7ce9377100601596"
  },
  {
   "cell_type": "code",
   "execution_count": 93,
   "outputs": [
    {
     "data": {
      "text/plain": "       Type Nottingham Index  5-Year Survival Probability\n0      full          2.0-2.4                     0.934066\n0      full          2.4-3.4                     0.937751\n0      full          3.4-5.4                     0.813636\n0      full             >5.4                     0.552764\n0    ductal          2.0-2.4                     0.932692\n0    ductal          2.4-3.4                     0.929825\n0    ductal          3.4-5.4                     0.815618\n0    ductal             >5.4                     0.541667\n0   lobular          2.0-2.4                     0.941176\n0   lobular          2.4-3.4                     0.924528\n0   lobular          3.4-5.4                     0.781250\n0   lobular             >5.4                     0.500000\n0     mixed          2.0-2.4                     0.937500\n0     mixed          2.4-3.4                     0.972222\n0     mixed          3.4-5.4                     0.813187\n0     mixed             >5.4                     0.687500\n0  Expected          2.0-2.4                     0.930000\n1  Expected          2.4-3.4                     0.850000\n2  Expected          3.4-5.4                     0.700000\n3  Expected             >5.4                     0.500000",
      "text/html": "<div>\n<style scoped>\n    .dataframe tbody tr th:only-of-type {\n        vertical-align: middle;\n    }\n\n    .dataframe tbody tr th {\n        vertical-align: top;\n    }\n\n    .dataframe thead th {\n        text-align: right;\n    }\n</style>\n<table border=\"1\" class=\"dataframe\">\n  <thead>\n    <tr style=\"text-align: right;\">\n      <th></th>\n      <th>Type</th>\n      <th>Nottingham Index</th>\n      <th>5-Year Survival Probability</th>\n    </tr>\n  </thead>\n  <tbody>\n    <tr>\n      <th>0</th>\n      <td>full</td>\n      <td>2.0-2.4</td>\n      <td>0.934066</td>\n    </tr>\n    <tr>\n      <th>0</th>\n      <td>full</td>\n      <td>2.4-3.4</td>\n      <td>0.937751</td>\n    </tr>\n    <tr>\n      <th>0</th>\n      <td>full</td>\n      <td>3.4-5.4</td>\n      <td>0.813636</td>\n    </tr>\n    <tr>\n      <th>0</th>\n      <td>full</td>\n      <td>&gt;5.4</td>\n      <td>0.552764</td>\n    </tr>\n    <tr>\n      <th>0</th>\n      <td>ductal</td>\n      <td>2.0-2.4</td>\n      <td>0.932692</td>\n    </tr>\n    <tr>\n      <th>0</th>\n      <td>ductal</td>\n      <td>2.4-3.4</td>\n      <td>0.929825</td>\n    </tr>\n    <tr>\n      <th>0</th>\n      <td>ductal</td>\n      <td>3.4-5.4</td>\n      <td>0.815618</td>\n    </tr>\n    <tr>\n      <th>0</th>\n      <td>ductal</td>\n      <td>&gt;5.4</td>\n      <td>0.541667</td>\n    </tr>\n    <tr>\n      <th>0</th>\n      <td>lobular</td>\n      <td>2.0-2.4</td>\n      <td>0.941176</td>\n    </tr>\n    <tr>\n      <th>0</th>\n      <td>lobular</td>\n      <td>2.4-3.4</td>\n      <td>0.924528</td>\n    </tr>\n    <tr>\n      <th>0</th>\n      <td>lobular</td>\n      <td>3.4-5.4</td>\n      <td>0.781250</td>\n    </tr>\n    <tr>\n      <th>0</th>\n      <td>lobular</td>\n      <td>&gt;5.4</td>\n      <td>0.500000</td>\n    </tr>\n    <tr>\n      <th>0</th>\n      <td>mixed</td>\n      <td>2.0-2.4</td>\n      <td>0.937500</td>\n    </tr>\n    <tr>\n      <th>0</th>\n      <td>mixed</td>\n      <td>2.4-3.4</td>\n      <td>0.972222</td>\n    </tr>\n    <tr>\n      <th>0</th>\n      <td>mixed</td>\n      <td>3.4-5.4</td>\n      <td>0.813187</td>\n    </tr>\n    <tr>\n      <th>0</th>\n      <td>mixed</td>\n      <td>&gt;5.4</td>\n      <td>0.687500</td>\n    </tr>\n    <tr>\n      <th>0</th>\n      <td>Expected</td>\n      <td>2.0-2.4</td>\n      <td>0.930000</td>\n    </tr>\n    <tr>\n      <th>1</th>\n      <td>Expected</td>\n      <td>2.4-3.4</td>\n      <td>0.850000</td>\n    </tr>\n    <tr>\n      <th>2</th>\n      <td>Expected</td>\n      <td>3.4-5.4</td>\n      <td>0.700000</td>\n    </tr>\n    <tr>\n      <th>3</th>\n      <td>Expected</td>\n      <td>&gt;5.4</td>\n      <td>0.500000</td>\n    </tr>\n  </tbody>\n</table>\n</div>"
     },
     "execution_count": 93,
     "metadata": {},
     "output_type": "execute_result"
    }
   ],
   "source": [
    "expected = pd.DataFrame({'Type': ['Expected']*4, 'Nottingham Index': ['2.0-2.4', '2.4-3.4', '3.4-5.4', '>5.4'] , '5-Year Survival Probability': [0.93, 0.85, 0.7, 0.5]})\n",
    "combined_df = pd.concat([full_probs, ductal_df, lobular_df, mixed_df, expected])\n",
    "combined_df"
   ],
   "metadata": {
    "collapsed": false,
    "ExecuteTime": {
     "end_time": "2024-01-04T15:30:17.023077Z",
     "start_time": "2024-01-04T15:30:17.017526Z"
    }
   },
   "id": "3920c988ac107c47"
  },
  {
   "cell_type": "code",
   "execution_count": 94,
   "outputs": [
    {
     "data": {
      "text/plain": "<Axes: xlabel='Nottingham Index', ylabel='5-Year Survival Probability'>"
     },
     "execution_count": 94,
     "metadata": {},
     "output_type": "execute_result"
    },
    {
     "data": {
      "text/plain": "<Figure size 640x480 with 1 Axes>",
      "image/png": "[encoded data removed]"
     },
     "metadata": {},
     "output_type": "display_data"
    }
   ],
   "source": [
    "sns.barplot(combined_df, x='Nottingham Index', y='5-Year Survival Probability', hue='Type')"
   ],
   "metadata": {
    "collapsed": false,
    "ExecuteTime": {
     "end_time": "2024-01-04T15:30:17.742377Z",
     "start_time": "2024-01-04T15:30:17.513380Z"
    }
   },
   "id": "d964026bd22403de"
  },
  {
   "cell_type": "code",
   "execution_count": null,
   "outputs": [],
   "source": [],
   "metadata": {
    "collapsed": false
   },
   "id": "6e1460385fc5fc49"
  }
 ],
 "metadata": {
  "kernelspec": {
   "display_name": "Python 3",
   "language": "python",
   "name": "python3"
  },
  "language_info": {
   "codemirror_mode": {
    "name": "ipython",
    "version": 2
   },
   "file_extension": ".py",
   "mimetype": "text/x-python",
   "name": "python",
   "nbconvert_exporter": "python",
   "pygments_lexer": "ipython2",
   "version": "2.7.6"
  }
 },
 "nbformat": 4,
 "nbformat_minor": 5
}
