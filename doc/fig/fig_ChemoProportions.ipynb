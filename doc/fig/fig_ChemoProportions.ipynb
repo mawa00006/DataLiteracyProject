{
 "cells": [
  {
   "cell_type": "code",
   "execution_count": 28,
   "id": "initial_id",
   "metadata": {
    "collapsed": true,
    "ExecuteTime": {
     "end_time": "2024-01-29T19:59:23.566839Z",
     "start_time": "2024-01-29T19:59:23.560035Z"
    }
   },
   "outputs": [],
   "source": [
    "import numpy as np\n",
    "import pandas as pd\n",
    "\n",
    "from tueplots import bundles\n",
    "from matplotlib import pyplot as plt"
   ]
  },
  {
   "cell_type": "code",
   "execution_count": 29,
   "outputs": [],
   "source": [
    "# Read data\n",
    "data = pd.read_csv(\"../../dat/preprocessed_brca_metabric_clinical_data.tsv\", sep='\\t')\n",
    "\n",
    "# Age groups for 5 year but below 35 and above 85 will be in one group\n",
    "bins = [0, 35, 40, 45, 50, 55, 60, 65, 70, 75, 80, 85, float('inf')]  # Define the age bins\n",
    "labels = [1,2,3,4,5,6,7,8,9,10,11,12]\n",
    "labels_2 = ['$<$35', '35-40', '40-45', '45-50', '50-55', '55-60', '60-65', '65-70', '70-75', '75-80', '80-85', '$\\ge$85']\n",
    "data['Age Groups'] = pd.cut(data['Age at Diagnosis'], bins=bins, labels=labels, right=False)"
   ],
   "metadata": {
    "collapsed": false,
    "ExecuteTime": {
     "end_time": "2024-01-29T19:59:24.460170Z",
     "start_time": "2024-01-29T19:59:24.442554Z"
    }
   },
   "id": "dbec2bf095c36d02"
  },
  {
   "cell_type": "code",
   "execution_count": 80,
   "outputs": [
    {
     "data": {
      "text/plain": "<Figure size 325x200.861 with 1 Axes>",
      "image/png": "[encoded data removed]"
     },
     "metadata": {},
     "output_type": "display_data"
    }
   ],
   "source": [
    "plt.rcParams.update(bundles.icml2022(column=\"half\", nrows=1, ncols=1))\n",
    "\n",
    "### Age vs Chemotherapy \n",
    "# distribution of age after making the groups\n",
    "chemo = data[data['Chemotherapy'] == 1]\n",
    "\n",
    "# Age with chemotherapy relative\n",
    "table = pd.crosstab(data['Age Groups'], data['Chemotherapy'])\n",
    "table_percentage = table.div(table.sum(axis=1), axis=0)\n",
    "\n",
    "no_chemo_counts = table_percentage.iloc[:, 0].to_numpy()\n",
    "chemo_counts = table_percentage.iloc[:, 1].to_numpy()\n",
    "\n",
    "counts = {\"Chemo\": chemo_counts, \"No Chemo\": no_chemo_counts,}\n",
    "\n",
    "colors = {'Chemo': 'steelblue', 'No Chemo': 'lightskyblue'}\n",
    "edgecol = {'Chemo': 'lightgrey', 'No Chemo': 'grey'}\n",
    "\n",
    "\n",
    "fig, ax = plt.subplots()\n",
    "bottom = np.zeros(12)\n",
    "\n",
    "for label, count in counts.items():\n",
    "    ax.bar(table_percentage.index, count,width=1, bottom=bottom,label=label, color=colors[label], edgecolor=edgecol[label])\n",
    "    bottom += count\n",
    "    \n",
    "    \n",
    "plt.setp(ax.spines.values(), lw=0.8, color='silver')\n",
    "ax.set_xticks(np.arange(1, 13), labels_2, rotation=90)\n",
    "ax.xaxis.set_ticks_position('none')\n",
    "ax.tick_params(width=0.5, length=2)\n",
    "\n",
    "plt.title('Chemotherapy relative')\n",
    "plt.savefig('fig_ChemoProportions.pdf')\n",
    "plt.legend()\n",
    "plt.show()"
   ],
   "metadata": {
    "collapsed": false,
    "ExecuteTime": {
     "end_time": "2024-01-29T20:41:20.129674Z",
     "start_time": "2024-01-29T20:41:19.302916Z"
    }
   },
   "id": "202948700b591c11"
  },
  {
   "cell_type": "code",
   "execution_count": null,
   "outputs": [],
   "source": [],
   "metadata": {
    "collapsed": false
   },
   "id": "e4173c00b26b5bfc"
  }
 ],
 "metadata": {
  "kernelspec": {
   "display_name": "Python 3",
   "language": "python",
   "name": "python3"
  },
  "language_info": {
   "codemirror_mode": {
    "name": "ipython",
    "version": 2
   },
   "file_extension": ".py",
   "mimetype": "text/x-python",
   "name": "python",
   "nbconvert_exporter": "python",
   "pygments_lexer": "ipython2",
   "version": "2.7.6"
  }
 },
 "nbformat": 4,
 "nbformat_minor": 5
}
