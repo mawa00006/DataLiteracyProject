{
 "cells": [
  {
   "cell_type": "markdown",
   "source": [
    "# Chemotherapy Proportions\n",
    "\n",
    "Run this notebook to reproduce our plot for the proportion of patients receiving chemotherapy by age group.\n",
    "\n",
    "Authors: Mattes Warning, Friederike Moroff\n",
    "    "
   ],
   "metadata": {
    "collapsed": false
   },
   "id": "23ba679c250c67f6"
  },
  {
   "cell_type": "code",
   "execution_count": 1,
   "outputs": [
    {
     "name": "stdout",
     "output_type": "stream",
     "text": [
      "Intel MKL WARNING: Support of Intel(R) Streaming SIMD Extensions 4.2 (Intel(R) SSE4.2) enabled only processors has been deprecated. Intel oneAPI Math Kernel Library 2025.0 will require Intel(R) Advanced Vector Extensions (Intel(R) AVX) instructions.\n",
      "Intel MKL WARNING: Support of Intel(R) Streaming SIMD Extensions 4.2 (Intel(R) SSE4.2) enabled only processors has been deprecated. Intel oneAPI Math Kernel Library 2025.0 will require Intel(R) Advanced Vector Extensions (Intel(R) AVX) instructions.\n"
     ]
    }
   ],
   "source": [
    "import numpy as np\n",
    "import pandas as pd\n",
    "\n",
    "from tueplots import bundles\n",
    "from matplotlib import pyplot as plt"
   ],
   "metadata": {
    "collapsed": false,
    "ExecuteTime": {
     "end_time": "2024-01-29T23:58:42.201199Z",
     "start_time": "2024-01-29T23:58:40.652749Z"
    }
   },
   "id": "initial_id"
  },
  {
   "cell_type": "code",
   "execution_count": 2,
   "outputs": [],
   "source": [
    "# Read data\n",
    "data = pd.read_csv(\"../../dat/preprocessed_brca_metabric_clinical_data.tsv\", sep='\\t')\n",
    "\n",
    "# Age groups for 5 year but below 35 and above 85 will be in one group\n",
    "bins = [0, 35, 40, 45, 50, 55, 60, 65, 70, 75, 80, 85, float('inf')]  # Define the age bins\n",
    "labels = [1,2,3,4,5,6,7,8,9,10,11,12]\n",
    "labels_2 = ['$<$35', '35-40', '40-45', '45-50', '50-55', '55-60', '60-65', '65-70', '70-75', '75-80', '80-85', '$\\ge$85']\n",
    "data['Age Groups'] = pd.cut(data['Age at Diagnosis'], bins=bins, labels=labels, right=False)"
   ],
   "metadata": {
    "collapsed": false,
    "ExecuteTime": {
     "end_time": "2024-01-29T23:58:42.222861Z",
     "start_time": "2024-01-29T23:58:42.204944Z"
    }
   },
   "id": "dbec2bf095c36d02"
  },
  {
   "cell_type": "code",
   "execution_count": 3,
   "outputs": [
    {
     "data": {
      "text/plain": "<Figure size 325x200.861 with 1 Axes>",
      "image/png": "[encoded data removed]"
     },
     "metadata": {},
     "output_type": "display_data"
    }
   ],
   "source": [
    "plt.rcParams.update(bundles.icml2022(column=\"half\", nrows=1, ncols=1))\n",
    "\n",
    "### Age vs Chemotherapy \n",
    "# distribution of age after making the groups\n",
    "chemo = data[data['Chemotherapy'] == 1]\n",
    "\n",
    "# Age with chemotherapy relative\n",
    "table = pd.crosstab(data['Age Groups'], data['Chemotherapy'])\n",
    "table_percentage = table.div(table.sum(axis=1), axis=0)\n",
    "\n",
    "no_chemo_counts = table_percentage.iloc[:, 0].to_numpy()\n",
    "chemo_counts = table_percentage.iloc[:, 1].to_numpy()\n",
    "\n",
    "counts = {\"Chemo\": chemo_counts, \"No Chemo\": no_chemo_counts,}\n",
    "\n",
    "colors = {'Chemo': 'steelblue', 'No Chemo': 'lightskyblue'}\n",
    "edgecol = {'Chemo': 'lightgrey', 'No Chemo': 'grey'}\n",
    "\n",
    "\n",
    "fig, ax = plt.subplots()\n",
    "bottom = np.zeros(12)\n",
    "\n",
    "for label, count in counts.items():\n",
    "    ax.bar(table_percentage.index, count,width=1, bottom=bottom,label=label, color=colors[label], edgecolor=edgecol[label])\n",
    "    bottom += count\n",
    "    \n",
    "    \n",
    "plt.setp(ax.spines.values(), lw=0.8, color='silver')\n",
    "ax.set_xticks(np.arange(1, 13), labels_2, rotation=90)\n",
    "ax.xaxis.set_ticks_position('none')\n",
    "ax.tick_params(width=0.5, length=2)\n",
    "ax.set_xlabel('Age Groups')\n",
    "ax.set_ylabel('Proportion of Chemotherapy')\n",
    "\n",
    "plt.title('Chemotherapy relative')\n",
    "plt.legend()\n",
    "plt.savefig('fig_ChemoProportions.pdf')\n",
    "plt.show()"
   ],
   "metadata": {
    "collapsed": false,
    "ExecuteTime": {
     "end_time": "2024-01-29T23:58:43.357639Z",
     "start_time": "2024-01-29T23:58:42.227225Z"
    }
   },
   "id": "202948700b591c11"
  },
  {
   "cell_type": "code",
   "execution_count": 3,
   "outputs": [],
   "source": [],
   "metadata": {
    "collapsed": false,
    "ExecuteTime": {
     "end_time": "2024-01-29T23:58:43.374233Z",
     "start_time": "2024-01-29T23:58:43.357395Z"
    }
   },
   "id": "e4173c00b26b5bfc"
  }
 ],
 "metadata": {
  "kernelspec": {
   "display_name": "Python 3",
   "language": "python",
   "name": "python3"
  },
  "language_info": {
   "codemirror_mode": {
    "name": "ipython",
    "version": 2
   },
   "file_extension": ".py",
   "mimetype": "text/x-python",
   "name": "python",
   "nbconvert_exporter": "python",
   "pygments_lexer": "ipython2",
   "version": "2.7.6"
  }
 },
 "nbformat": 4,
 "nbformat_minor": 5
}
