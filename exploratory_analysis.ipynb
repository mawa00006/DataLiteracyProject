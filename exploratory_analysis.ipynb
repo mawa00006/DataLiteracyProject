{
 "cells": [
  {
   "cell_type": "markdown",
   "metadata": {},
   "source": [
    "## 0. Load the data + packages "
   ]
  },
  {
   "cell_type": "code",
   "execution_count": 111,
   "metadata": {},
   "outputs": [],
   "source": [
    "# add all the needed packages \n",
    "import pandas as pd\n",
    "import matplotlib.pyplot as plt\n",
    " "
   ]
  },
  {
   "cell_type": "code",
   "execution_count": 112,
   "metadata": {},
   "outputs": [
    {
     "name": "stdout",
     "output_type": "stream",
     "text": [
      "<class 'pandas.core.frame.DataFrame'>\n",
      "RangeIndex: 2509 entries, 0 to 2508\n",
      "Data columns (total 39 columns):\n",
      " #   Column                          Non-Null Count  Dtype  \n",
      "---  ------                          --------------  -----  \n",
      " 0   Study ID                        2509 non-null   object \n",
      " 1   Patient ID                      2509 non-null   object \n",
      " 2   Sample ID                       2509 non-null   object \n",
      " 3   Age at Diagnosis                2498 non-null   float64\n",
      " 4   Type of Breast Surgery          1955 non-null   object \n",
      " 5   Cancer Type                     2509 non-null   object \n",
      " 6   Cancer Type Detailed            2509 non-null   object \n",
      " 7   Cellularity                     1917 non-null   object \n",
      " 8   Chemotherapy                    1980 non-null   object \n",
      " 9   Pam50 + Claudin-low subtype     1980 non-null   object \n",
      " 10  Cohort                          2498 non-null   float64\n",
      " 11  ER status measured by IHC       2426 non-null   object \n",
      " 12  ER Status                       2469 non-null   object \n",
      " 13  Neoplasm Histologic Grade       2388 non-null   float64\n",
      " 14  HER2 status measured by SNP6    1980 non-null   object \n",
      " 15  HER2 Status                     1980 non-null   object \n",
      " 16  Tumor Other Histologic Subtype  2374 non-null   object \n",
      " 17  Hormone Therapy                 1980 non-null   object \n",
      " 18  Inferred Menopausal State       1980 non-null   object \n",
      " 19  Integrative Cluster             1980 non-null   object \n",
      " 20  Primary Tumor Laterality        1870 non-null   object \n",
      " 21  Lymph nodes examined positive   2243 non-null   float64\n",
      " 22  Mutation Count                  2358 non-null   float64\n",
      " 23  Nottingham prognostic index     2287 non-null   float64\n",
      " 24  Oncotree Code                   2509 non-null   object \n",
      " 25  Overall Survival (Months)       1981 non-null   float64\n",
      " 26  Overall Survival Status         1981 non-null   object \n",
      " 27  PR Status                       1980 non-null   object \n",
      " 28  Radio Therapy                   1980 non-null   object \n",
      " 29  Relapse Free Status (Months)    2388 non-null   float64\n",
      " 30  Relapse Free Status             2488 non-null   object \n",
      " 31  Number of Samples Per Patient   2509 non-null   int64  \n",
      " 32  Sample Type                     2509 non-null   object \n",
      " 33  Sex                             2509 non-null   object \n",
      " 34  3-Gene classifier subtype       1764 non-null   object \n",
      " 35  TMB (nonsynonymous)             2509 non-null   float64\n",
      " 36  Tumor Size                      2360 non-null   float64\n",
      " 37  Tumor Stage                     1788 non-null   float64\n",
      " 38  Patient's Vital Status          1980 non-null   object \n",
      "dtypes: float64(11), int64(1), object(27)\n",
      "memory usage: 764.6+ KB\n"
     ]
    }
   ],
   "source": [
    "import pandas as pd\n",
    "pd.options.display.max_columns = None\n",
    "pd.options.display.max_rows = None\n",
    "\n",
    "data = pd.read_csv('C:/Users/kevin/Desktop/Data Literacy/Project/brca_metabric_clinical_data.tsv', sep='\\t', header=0)\n",
    "data.info()\n"
   ]
  },
  {
   "cell_type": "markdown",
   "metadata": {},
   "source": [
    "#### a) Explore the data"
   ]
  },
  {
   "cell_type": "code",
   "execution_count": 113,
   "metadata": {},
   "outputs": [
    {
     "data": {
      "text/html": [
       "<div>\n",
       "<style scoped>\n",
       "    .dataframe tbody tr th:only-of-type {\n",
       "        vertical-align: middle;\n",
       "    }\n",
       "\n",
       "    .dataframe tbody tr th {\n",
       "        vertical-align: top;\n",
       "    }\n",
       "\n",
       "    .dataframe thead th {\n",
       "        text-align: right;\n",
       "    }\n",
       "</style>\n",
       "<table border=\"1\" class=\"dataframe\">\n",
       "  <thead>\n",
       "    <tr style=\"text-align: right;\">\n",
       "      <th></th>\n",
       "      <th>column_names</th>\n",
       "    </tr>\n",
       "  </thead>\n",
       "  <tbody>\n",
       "    <tr>\n",
       "      <th>0</th>\n",
       "      <td>Age at Diagnosis</td>\n",
       "    </tr>\n",
       "    <tr>\n",
       "      <th>1</th>\n",
       "      <td>Type of Breast Surgery</td>\n",
       "    </tr>\n",
       "    <tr>\n",
       "      <th>2</th>\n",
       "      <td>Cancer Type Detailed</td>\n",
       "    </tr>\n",
       "    <tr>\n",
       "      <th>3</th>\n",
       "      <td>Cellularity</td>\n",
       "    </tr>\n",
       "    <tr>\n",
       "      <th>4</th>\n",
       "      <td>Chemotherapy</td>\n",
       "    </tr>\n",
       "    <tr>\n",
       "      <th>5</th>\n",
       "      <td>Pam50 + Claudin-low subtype</td>\n",
       "    </tr>\n",
       "    <tr>\n",
       "      <th>6</th>\n",
       "      <td>ER status measured by IHC</td>\n",
       "    </tr>\n",
       "    <tr>\n",
       "      <th>7</th>\n",
       "      <td>ER Status</td>\n",
       "    </tr>\n",
       "    <tr>\n",
       "      <th>8</th>\n",
       "      <td>Neoplasm Histologic Grade</td>\n",
       "    </tr>\n",
       "    <tr>\n",
       "      <th>9</th>\n",
       "      <td>HER2 status measured by SNP6</td>\n",
       "    </tr>\n",
       "    <tr>\n",
       "      <th>10</th>\n",
       "      <td>HER2 Status</td>\n",
       "    </tr>\n",
       "    <tr>\n",
       "      <th>11</th>\n",
       "      <td>Tumor Other Histologic Subtype</td>\n",
       "    </tr>\n",
       "    <tr>\n",
       "      <th>12</th>\n",
       "      <td>Hormone Therapy</td>\n",
       "    </tr>\n",
       "    <tr>\n",
       "      <th>13</th>\n",
       "      <td>Inferred Menopausal State</td>\n",
       "    </tr>\n",
       "    <tr>\n",
       "      <th>14</th>\n",
       "      <td>Integrative Cluster</td>\n",
       "    </tr>\n",
       "    <tr>\n",
       "      <th>15</th>\n",
       "      <td>Primary Tumor Laterality</td>\n",
       "    </tr>\n",
       "    <tr>\n",
       "      <th>16</th>\n",
       "      <td>Lymph nodes examined positive</td>\n",
       "    </tr>\n",
       "    <tr>\n",
       "      <th>17</th>\n",
       "      <td>Mutation Count</td>\n",
       "    </tr>\n",
       "    <tr>\n",
       "      <th>18</th>\n",
       "      <td>Nottingham prognostic index</td>\n",
       "    </tr>\n",
       "    <tr>\n",
       "      <th>19</th>\n",
       "      <td>Oncotree Code</td>\n",
       "    </tr>\n",
       "    <tr>\n",
       "      <th>20</th>\n",
       "      <td>Overall Survival (Months)</td>\n",
       "    </tr>\n",
       "    <tr>\n",
       "      <th>21</th>\n",
       "      <td>PR Status</td>\n",
       "    </tr>\n",
       "    <tr>\n",
       "      <th>22</th>\n",
       "      <td>Radio Therapy</td>\n",
       "    </tr>\n",
       "    <tr>\n",
       "      <th>23</th>\n",
       "      <td>Relapse Free Status (Months)</td>\n",
       "    </tr>\n",
       "    <tr>\n",
       "      <th>24</th>\n",
       "      <td>Relapse Free Status</td>\n",
       "    </tr>\n",
       "    <tr>\n",
       "      <th>25</th>\n",
       "      <td>3-Gene classifier subtype</td>\n",
       "    </tr>\n",
       "    <tr>\n",
       "      <th>26</th>\n",
       "      <td>TMB (nonsynonymous)</td>\n",
       "    </tr>\n",
       "    <tr>\n",
       "      <th>27</th>\n",
       "      <td>Tumor Size</td>\n",
       "    </tr>\n",
       "    <tr>\n",
       "      <th>28</th>\n",
       "      <td>Tumor Stage</td>\n",
       "    </tr>\n",
       "    <tr>\n",
       "      <th>29</th>\n",
       "      <td>Patient's Vital Status</td>\n",
       "    </tr>\n",
       "  </tbody>\n",
       "</table>\n",
       "</div>"
      ],
      "text/plain": [
       "                      column_names\n",
       "0                 Age at Diagnosis\n",
       "1           Type of Breast Surgery\n",
       "2             Cancer Type Detailed\n",
       "3                      Cellularity\n",
       "4                     Chemotherapy\n",
       "5      Pam50 + Claudin-low subtype\n",
       "6        ER status measured by IHC\n",
       "7                        ER Status\n",
       "8        Neoplasm Histologic Grade\n",
       "9     HER2 status measured by SNP6\n",
       "10                     HER2 Status\n",
       "11  Tumor Other Histologic Subtype\n",
       "12                 Hormone Therapy\n",
       "13       Inferred Menopausal State\n",
       "14             Integrative Cluster\n",
       "15        Primary Tumor Laterality\n",
       "16   Lymph nodes examined positive\n",
       "17                  Mutation Count\n",
       "18     Nottingham prognostic index\n",
       "19                   Oncotree Code\n",
       "20       Overall Survival (Months)\n",
       "21                       PR Status\n",
       "22                   Radio Therapy\n",
       "23    Relapse Free Status (Months)\n",
       "24             Relapse Free Status\n",
       "25       3-Gene classifier subtype\n",
       "26             TMB (nonsynonymous)\n",
       "27                      Tumor Size\n",
       "28                     Tumor Stage\n",
       "29          Patient's Vital Status"
      ]
     },
     "execution_count": 113,
     "metadata": {},
     "output_type": "execute_result"
    }
   ],
   "source": [
    "# drop irrelevant columns\n",
    "df = data.drop([\"Study ID\", \"Sample ID\", \"Cancer Type\", \"Cohort\", \"Number of Samples Per Patient\", \n",
    "                \"Overall Survival Status\", \"Sex\", \"Sample Type\"], axis = 1, inplace=True)\n",
    "\n",
    "df = data.set_index('Patient ID')\n",
    "\n",
    "columns_list = df.columns.tolist()\n",
    "\n",
    "column_names = pd.DataFrame(columns_list, columns=['column_names'])\n",
    "column_names\n"
   ]
  },
  {
   "cell_type": "code",
   "execution_count": 114,
   "metadata": {},
   "outputs": [
    {
     "name": "stdout",
     "output_type": "stream",
     "text": [
      "Patient's Vital Status\n",
      "['Living' 'Died of Disease' 'Died of Other Causes' nan]\n"
     ]
    },
    {
     "data": {
      "text/plain": [
       "<Axes: xlabel=\"Patient's Vital Status\">"
      ]
     },
     "execution_count": 114,
     "metadata": {},
     "output_type": "execute_result"
    },
    {
     "data": {
      "image/png": "[encoded data removed]",
      "text/plain": [
       "<Figure size 640x480 with 1 Axes>"
      ]
     },
     "metadata": {},
     "output_type": "display_data"
    }
   ],
   "source": [
    "import matplotlib.pyplot as plt\n",
    "\n",
    "i = 29\n",
    "\n",
    "print(columns_list[i])\n",
    "print(data[columns_list[i]].unique())\n",
    "#print(df[columns_list[i]].value_counts())\n",
    "\n",
    "df[columns_list[i]].value_counts().plot(kind='bar')\n"
   ]
  },
  {
   "cell_type": "code",
   "execution_count": null,
   "metadata": {},
   "outputs": [],
   "source": [
    "\n"
   ]
  },
  {
   "cell_type": "code",
   "execution_count": 116,
   "metadata": {},
   "outputs": [],
   "source": [
    "from sklearn import preprocessing \n",
    "\n",
    "# label_encoder.fit_transform: This transformer should be used to encode target values, i.e. y, and not the input X. \n",
    "# --> use this instead? https://scikit-learn.org/stable/modules/generated/sklearn.preprocessing.OrdinalEncoder.html#sklearn.preprocessing.OrdinalEncoder\n",
    "\n",
    "label_encoder = preprocessing.LabelEncoder()\n",
    "df[\"Type of Breast Surgery\"] = label_encoder.fit_transform(data[\"Type of Breast Surgery\"])\n",
    "df[\"Cancer Type Detailed\"] = label_encoder.fit_transform(data[\"Cancer Type Detailed\"])\n",
    "df[\"Cellularity\"] = label_encoder.fit_transform(data[\"Cellularity\"])\n",
    "df[\"Chemotherapy\"] = label_encoder.fit_transform(data[\"Chemotherapy\"])\n",
    "df[\"Pam50 + Claudin-low subtype\"] = label_encoder.fit_transform(data[\"Pam50 + Claudin-low subtype\"])\n",
    "df[\"ER status measured by IHC\"] = label_encoder.fit_transform(data[\"ER status measured by IHC\"])\n",
    "df[\"ER Status\"] = label_encoder.fit_transform(data[\"ER Status\"])\n",
    "df[\"HER2 status measured by SNP6\"] = label_encoder.fit_transform(data[\"HER2 status measured by SNP6\"])\n",
    "df[\"HER2 Status\"] = label_encoder.fit_transform(data[\"HER2 Status\"])\n",
    "df[\"Tumor Other Histologic Subtype\"] = label_encoder.fit_transform(data[\"Tumor Other Histologic Subtype\"])\n",
    "df[\"Hormone Therapy\"] = label_encoder.fit_transform(data[\"Hormone Therapy\"])\n",
    "df[\"Inferred Menopausal State\"] = label_encoder.fit_transform(data[\"Inferred Menopausal State\"])\n",
    "df[\"Integrative Cluster\"] = label_encoder.fit_transform(data[\"Integrative Cluster\"])\n",
    "df[\"Primary Tumor Laterality\"] = label_encoder.fit_transform(data[\"Primary Tumor Laterality\"])\n",
    "df[\"Oncotree Code\"] = label_encoder.fit_transform(data[\"Oncotree Code\"])\n",
    "df[\"PR Status\"] = label_encoder.fit_transform(data[\"PR Status\"])\n",
    "df[\"Relapse Free Status\"] = label_encoder.fit_transform(data[\"Relapse Free Status\"])\n",
    "df[\"3-Gene classifier subtype\"] = label_encoder.fit_transform(data[\"3-Gene classifier subtype\"])\n",
    "df[\"Patient's Vital Status\"] = label_encoder.fit_transform(data[\"Patient's Vital Status\"])\n",
    "df[\"Radio Therapy\"] = label_encoder.fit_transform(data[\"Radio Therapy\"])\n",
    "\n",
    "df['Mutation Count'] = df['Mutation Count'].fillna(0)\n",
    "df['Neoplasm Histologic Grade'] = df['Neoplasm Histologic Grade'].fillna(0)\n",
    "df['Lymph nodes examined positive'] = df['Lymph nodes examined positive'].fillna(0)\n",
    "df['Nottingham prognostic index'] = df['Nottingham prognostic index'].fillna(0)\n",
    "df['Age at Diagnosis'] = df['Age at Diagnosis'].fillna(0)\n",
    "df['Overall Survival (Months)'] = df['Overall Survival (Months)'].fillna(0)\n",
    "df['Relapse Free Status (Months)'] = df['Relapse Free Status (Months)'].fillna(0)\n",
    "df['Tumor Size'] = df['Tumor Size'].fillna(0)\n",
    "df['Tumor Stage'] = df['Tumor Stage'].fillna(0)\n",
    "# test if any columns hae NaN's\n",
    "#df.isna().any()\n",
    "\n",
    "#df.head(5)"
   ]
  },
  {
   "cell_type": "code",
   "execution_count": null,
   "metadata": {},
   "outputs": [],
   "source": []
  },
  {
   "cell_type": "code",
   "execution_count": null,
   "metadata": {},
   "outputs": [],
   "source": []
  },
  {
   "cell_type": "markdown",
   "metadata": {},
   "source": [
    "## 2. Analysis\n",
    "- do some kind of cluster analysis?\n",
    "--> https://pypi.org/project/kmodes/\n",
    "\n",
    "#### Hypotheses:\n",
    "- ?\n",
    "\n"
   ]
  },
  {
   "cell_type": "code",
   "execution_count": 117,
   "metadata": {},
   "outputs": [
    {
     "name": "stdout",
     "output_type": "stream",
     "text": [
      "Init: initializing centroids\n",
      "Init: initializing clusters\n",
      "Starting iterations...\n",
      "Run 1, iteration: 1/100, moves: 958, cost: 30895.0\n",
      "Run 1, iteration: 2/100, moves: 341, cost: 30723.0\n",
      "Run 1, iteration: 3/100, moves: 157, cost: 30705.0\n",
      "Run 1, iteration: 4/100, moves: 11, cost: 30705.0\n",
      "Init: initializing centroids\n",
      "Init: initializing clusters\n",
      "Starting iterations...\n",
      "Run 2, iteration: 1/100, moves: 1132, cost: 30827.0\n",
      "Run 2, iteration: 2/100, moves: 283, cost: 30767.0\n",
      "Run 2, iteration: 3/100, moves: 40, cost: 30767.0\n",
      "Init: initializing centroids\n",
      "Init: initializing clusters\n",
      "Starting iterations...\n",
      "Run 3, iteration: 1/100, moves: 816, cost: 30687.0\n",
      "Run 3, iteration: 2/100, moves: 344, cost: 30602.0\n",
      "Run 3, iteration: 3/100, moves: 27, cost: 30600.0\n",
      "Run 3, iteration: 4/100, moves: 2, cost: 30600.0\n",
      "Init: initializing centroids\n",
      "Init: initializing clusters\n",
      "Starting iterations...\n",
      "Run 4, iteration: 1/100, moves: 784, cost: 30852.0\n",
      "Run 4, iteration: 2/100, moves: 185, cost: 30852.0\n",
      "Init: initializing centroids\n",
      "Init: initializing clusters\n",
      "Starting iterations...\n",
      "Run 5, iteration: 1/100, moves: 1152, cost: 30915.0\n",
      "Run 5, iteration: 2/100, moves: 514, cost: 30599.0\n",
      "Run 5, iteration: 3/100, moves: 55, cost: 30599.0\n",
      "Best run was number 5\n"
     ]
    }
   ],
   "source": [
    "import numpy as np\n",
    "from kmodes.kmodes import KModes\n",
    "\n",
    "km = KModes(n_clusters=7, init='Huang', n_init=5, verbose=1)\n",
    "\n",
    "clusters = km.fit_predict(df)\n",
    "\n",
    "# Print the cluster centroids\n",
    "#print(km.cluster_centroids_)"
   ]
  },
  {
   "cell_type": "code",
   "execution_count": 118,
   "metadata": {},
   "outputs": [
    {
     "data": {
      "text/plain": [
       "Index(['Age at Diagnosis', 'Type of Breast Surgery', 'Cancer Type Detailed',\n",
       "       'Cellularity', 'Chemotherapy', 'Pam50 + Claudin-low subtype',\n",
       "       'ER status measured by IHC', 'ER Status', 'Neoplasm Histologic Grade',\n",
       "       'HER2 status measured by SNP6', 'HER2 Status',\n",
       "       'Tumor Other Histologic Subtype', 'Hormone Therapy',\n",
       "       'Inferred Menopausal State', 'Integrative Cluster',\n",
       "       'Primary Tumor Laterality', 'Lymph nodes examined positive',\n",
       "       'Mutation Count', 'Nottingham prognostic index', 'Oncotree Code',\n",
       "       'Overall Survival (Months)', 'PR Status', 'Radio Therapy',\n",
       "       'Relapse Free Status (Months)', 'Relapse Free Status',\n",
       "       '3-Gene classifier subtype', 'TMB (nonsynonymous)', 'Tumor Size',\n",
       "       'Tumor Stage', 'Patient's Vital Status'],\n",
       "      dtype='object')"
      ]
     },
     "execution_count": 118,
     "metadata": {},
     "output_type": "execute_result"
    }
   ],
   "source": [
    "df.columns"
   ]
  },
  {
   "cell_type": "code",
   "execution_count": 122,
   "metadata": {},
   "outputs": [
    {
     "name": "stderr",
     "output_type": "stream",
     "text": [
      "No artists with labels found to put in legend.  Note that artists whose label start with an underscore are ignored when legend() is called with no argument.\n"
     ]
    },
    {
     "data": {
      "text/plain": [
       "<matplotlib.legend.Legend at 0x263a8c31210>"
      ]
     },
     "execution_count": 122,
     "metadata": {},
     "output_type": "execute_result"
    },
    {
     "data": {
      "image/png": "[encoded data removed]",
      "text/plain": [
       "<Figure size 640x480 with 1 Axes>"
      ]
     },
     "metadata": {},
     "output_type": "display_data"
    }
   ],
   "source": [
    "import matplotlib.pyplot as plt\n",
    "\n",
    "# add the clusters as a column to the original df\n",
    "df[\"cluster\"] = clusters.tolist()\n",
    "\n",
    "fig, ax = plt.subplots()\n",
    "plt.scatter(df[\"Tumor Stage\"], df[\"Integrative Cluster\"], c = df[\"cluster\"], edgecolors='none')\n",
    "ax.legend()\n",
    "\n"
   ]
  },
  {
   "cell_type": "code",
   "execution_count": null,
   "metadata": {},
   "outputs": [],
   "source": []
  },
  {
   "cell_type": "code",
   "execution_count": null,
   "metadata": {},
   "outputs": [],
   "source": []
  },
  {
   "cell_type": "code",
   "execution_count": null,
   "metadata": {},
   "outputs": [],
   "source": []
  }
 ],
 "metadata": {
  "kernelspec": {
   "display_name": "Python 3",
   "language": "python",
   "name": "python3"
  },
  "language_info": {
   "codemirror_mode": {
    "name": "ipython",
    "version": 3
   },
   "file_extension": ".py",
   "mimetype": "text/x-python",
   "name": "python",
   "nbconvert_exporter": "python",
   "pygments_lexer": "ipython3",
   "version": "3.11.0"
  }
 },
 "nbformat": 4,
 "nbformat_minor": 2
}
